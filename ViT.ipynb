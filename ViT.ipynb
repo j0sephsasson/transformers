{
 "cells": [
  {
   "cell_type": "code",
   "execution_count": 11,
   "metadata": {},
   "outputs": [],
   "source": [
    "import torch\n",
    "import torch.nn as nn\n",
    "\n",
    "class PatchEmbedding(nn.Module):\n",
    "    def __init__(self, in_channels=3, patch_size=16, embed_dim=768):\n",
    "        super().__init__()\n",
    "        self.patch_size = patch_size\n",
    "        self.proj = nn.Conv2d(in_channels, embed_dim, kernel_size=patch_size, stride=patch_size)\n",
    "        self.num_patches = (224 // patch_size) ** 2  # Assuming input image size is 224x224\n",
    "        self.pos_embed = nn.Parameter(torch.randn(1, self.num_patches, embed_dim))\n",
    "\n",
    "    def forward(self, x):\n",
    "        # Input x is an image tensor of shape (batch_size, channels, height, width)\n",
    "        # Extract patches from the input image tensor using conv2d\n",
    "        x = self.proj(x)\n",
    "        # Reshape the extracted patches into a 2D tensor\n",
    "        # (batch_size, num_patches, embedding_dim)\n",
    "        x = x.flatten(2).transpose(1, 2)\n",
    "        # Add positional embeddings to the patch embeddings\n",
    "        x = x + self.pos_embed\n",
    "        return x"
   ]
  },
  {
   "cell_type": "code",
   "execution_count": 12,
   "metadata": {},
   "outputs": [
    {
     "name": "stdout",
     "output_type": "stream",
     "text": [
      "torch.Size([1, 196, 768])\n"
     ]
    }
   ],
   "source": [
    "from PIL import Image\n",
    "from torchvision import transforms\n",
    "\n",
    "# Load the image and resize it to 224x224\n",
    "image = Image.open('data/dog.jpeg').convert('RGB')\n",
    "resized_image = image.resize((224, 224))\n",
    "\n",
    "# Convert the resized image to a tensor\n",
    "tensor_image = transforms.ToTensor()(resized_image)\n",
    "\n",
    "# Add a batch dimension to the tensor\n",
    "batched_tensor_image = tensor_image.unsqueeze(0)\n",
    "\n",
    "# Initialize the PatchEmbedding module with patch_size=16, embed_dim=768\n",
    "patch_embedding = PatchEmbedding(patch_size=16, embed_dim=768)\n",
    "\n",
    "# Compute patch embeddings for the input image tensor\n",
    "patch_embeddings = patch_embedding.forward(batched_tensor_image)\n",
    "\n",
    "# Print the shape of the output tensor\n",
    "print(patch_embeddings.shape)"
   ]
  },
  {
   "cell_type": "code",
   "execution_count": 13,
   "metadata": {},
   "outputs": [],
   "source": [
    "class TransformerBlock(nn.Module):\n",
    "    def __init__(self, embed_dim, num_heads, dropout_rate=0.1):\n",
    "        super().__init__()\n",
    "\n",
    "        # Multi-head self-attention layer\n",
    "        self.self_attention = nn.MultiheadAttention(embed_dim, num_heads, dropout=dropout_rate)\n",
    "\n",
    "        # Feedforward neural network layer\n",
    "        self.feedforward = nn.Sequential(\n",
    "            nn.Linear(embed_dim, 4 * embed_dim),\n",
    "            nn.ReLU(),\n",
    "            nn.Linear(4 * embed_dim, embed_dim),\n",
    "            nn.Dropout(dropout_rate)\n",
    "        )\n",
    "\n",
    "        # Layer normalization\n",
    "        self.norm = nn.LayerNorm(embed_dim)\n",
    "\n",
    "    def forward(self, x):\n",
    "        # Compute multi-head self-attention\n",
    "        x = x.transpose(0, 1) # (num_patches, batch_size, embed_dim)\n",
    "        x, _ = self.self_attention(x, x, x)\n",
    "        x = x.transpose(0, 1) # (batch_size, num_patches, embed_dim)\n",
    "\n",
    "        # Apply residual connection and layer normalization\n",
    "        x = self.norm(x + x)\n",
    "\n",
    "        # Apply feedforward neural network\n",
    "        x = self.feedforward(x)\n",
    "\n",
    "        # Apply residual connection and layer normalization\n",
    "        x = self.norm(x + x)\n",
    "\n",
    "        return x"
   ]
  },
  {
   "cell_type": "code",
   "execution_count": 14,
   "metadata": {},
   "outputs": [],
   "source": [
    "class TransformerEncoder(nn.Module):\n",
    "    def __init__(self, num_layers, embed_dim, num_heads, dropout_rate=0.1):\n",
    "        super().__init__()\n",
    "        self.layers = nn.ModuleList([\n",
    "            TransformerBlock(embed_dim, num_heads, dropout_rate)\n",
    "            for _ in range(num_layers)\n",
    "        ])\n",
    "        \n",
    "    def forward(self, x):\n",
    "        for layer in self.layers:\n",
    "            x = layer(x)\n",
    "        return x\n",
    "\n",
    "class ClassificationHead(nn.Module):\n",
    "    def __init__(self, embed_dim, num_classes):\n",
    "        super().__init__()\n",
    "        self.proj = nn.Linear(embed_dim, num_classes)\n",
    "        \n",
    "    def forward(self, x):\n",
    "        # Compute the mean of the patch embeddings\n",
    "        x = x.mean(dim=1)\n",
    "        # Project the patch embeddings to the class logits\n",
    "        x = self.proj(x)\n",
    "        # Apply softmax activation to get class probabilities\n",
    "        x = nn.functional.softmax(x, dim=-1)\n",
    "        return x"
   ]
  },
  {
   "cell_type": "code",
   "execution_count": 15,
   "metadata": {},
   "outputs": [],
   "source": [
    "encoder = TransformerEncoder(num_layers=3, num_heads=12, embed_dim=768)\n",
    "classhead = ClassificationHead(embed_dim=768, num_classes=10)\n",
    "\n",
    "encoded = encoder.forward(patch_embeddings)\n",
    "final = classhead.forward(encoded)"
   ]
  },
  {
   "cell_type": "code",
   "execution_count": 17,
   "metadata": {},
   "outputs": [
    {
     "data": {
      "text/plain": [
       "torch.Size([1, 10])"
      ]
     },
     "execution_count": 17,
     "metadata": {},
     "output_type": "execute_result"
    }
   ],
   "source": [
    "final.shape"
   ]
  }
 ],
 "metadata": {
  "kernelspec": {
   "display_name": "dl",
   "language": "python",
   "name": "python3"
  },
  "language_info": {
   "codemirror_mode": {
    "name": "ipython",
    "version": 3
   },
   "file_extension": ".py",
   "mimetype": "text/x-python",
   "name": "python",
   "nbconvert_exporter": "python",
   "pygments_lexer": "ipython3",
   "version": "3.10.8"
  },
  "orig_nbformat": 4,
  "vscode": {
   "interpreter": {
    "hash": "893acd4f14a2c224c2a8b6bb81033dcb316fface5b0b847151cf9bb644c700c2"
   }
  }
 },
 "nbformat": 4,
 "nbformat_minor": 2
}
