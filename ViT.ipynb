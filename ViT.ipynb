{
 "cells": [
  {
   "cell_type": "code",
   "execution_count": 1,
   "metadata": {},
   "outputs": [],
   "source": [
    "import torch\n",
    "import torch.nn as nn\n",
    "\n",
    "class PatchEmbedding(nn.Module):\n",
    "    def __init__(self, in_channels=3, patch_size=16, embed_dim=768):\n",
    "        super().__init__()\n",
    "        self.patch_size = patch_size\n",
    "        self.proj = nn.Conv2d(in_channels, embed_dim, kernel_size=patch_size, stride=patch_size)\n",
    "        self.num_patches = (224 // patch_size) ** 2  # Assuming input image size is 224x224\n",
    "        self.pos_embed = nn.Parameter(torch.randn(1, self.num_patches, embed_dim))\n",
    "\n",
    "    def forward(self, x):\n",
    "        # Input x is an image tensor of shape (batch_size, channels, height, width)\n",
    "        # Extract patches from the input image tensor using conv2d\n",
    "        x = self.proj(x)\n",
    "        # Reshape the extracted patches into a 2D tensor\n",
    "        # (batch_size, num_patches, embedding_dim)\n",
    "        x = x.flatten(2).transpose(1, 2)\n",
    "        # Add positional embeddings to the patch embeddings\n",
    "        x = x + self.pos_embed\n",
    "        return x"
   ]
  },
  {
   "cell_type": "code",
   "execution_count": 2,
   "metadata": {},
   "outputs": [
    {
     "name": "stdout",
     "output_type": "stream",
     "text": [
      "torch.Size([1, 196, 768])\n"
     ]
    }
   ],
   "source": [
    "from PIL import Image\n",
    "from torchvision import transforms\n",
    "\n",
    "# Load the image and resize it to 224x224\n",
    "image = Image.open('data/dog.jpeg').convert('RGB')\n",
    "resized_image = image.resize((224, 224))\n",
    "\n",
    "# Convert the resized image to a tensor\n",
    "tensor_image = transforms.ToTensor()(resized_image)\n",
    "\n",
    "# Add a batch dimension to the tensor\n",
    "batched_tensor_image = tensor_image.unsqueeze(0)\n",
    "\n",
    "# Initialize the PatchEmbedding module with patch_size=16, embed_dim=768\n",
    "patch_embedding = PatchEmbedding(patch_size=16, embed_dim=768)\n",
    "\n",
    "# Compute patch embeddings for the input image tensor\n",
    "patch_embeddings = patch_embedding.forward(batched_tensor_image)\n",
    "\n",
    "# Print the shape of the output tensor\n",
    "print(patch_embeddings.shape)"
   ]
  }
 ],
 "metadata": {
  "kernelspec": {
   "display_name": "dl",
   "language": "python",
   "name": "python3"
  },
  "language_info": {
   "codemirror_mode": {
    "name": "ipython",
    "version": 3
   },
   "file_extension": ".py",
   "mimetype": "text/x-python",
   "name": "python",
   "nbconvert_exporter": "python",
   "pygments_lexer": "ipython3",
   "version": "3.10.8"
  },
  "orig_nbformat": 4,
  "vscode": {
   "interpreter": {
    "hash": "893acd4f14a2c224c2a8b6bb81033dcb316fface5b0b847151cf9bb644c700c2"
   }
  }
 },
 "nbformat": 4,
 "nbformat_minor": 2
}
